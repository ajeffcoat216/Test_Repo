{
 "cells": [
  {
   "cell_type": "markdown",
   "id": "23a3ee93-e8e8-45f6-a797-5655a6b961b5",
   "metadata": {},
   "source": [
    "## Hi Anastasia"
   ]
  },
  {
   "cell_type": "code",
   "execution_count": 1,
   "id": "8562ce8c-7b3c-4a6b-9bb4-119ff94be12f",
   "metadata": {},
   "outputs": [
    {
     "name": "stdout",
     "output_type": "stream",
     "text": [
      "5\n"
     ]
    }
   ],
   "source": [
    "a= 5\n",
    "print(a)"
   ]
  }
 ],
 "metadata": {
  "kernelspec": {
   "display_name": "Python 3 (ipykernel)",
   "language": "python",
   "name": "python3"
  },
  "language_info": {
   "codemirror_mode": {
    "name": "ipython",
    "version": 3
   },
   "file_extension": ".py",
   "mimetype": "text/x-python",
   "name": "python",
   "nbconvert_exporter": "python",
   "pygments_lexer": "ipython3",
   "version": "3.10.9"
  }
 },
 "nbformat": 4,
 "nbformat_minor": 5
}
